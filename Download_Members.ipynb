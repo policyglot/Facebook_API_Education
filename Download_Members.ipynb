{
 "cells": [
  {
   "cell_type": "code",
   "execution_count": 23,
   "metadata": {},
   "outputs": [
    {
     "name": "stdout",
     "output_type": "stream",
     "text": [
      "https://graph.facebook.com/284578622020844/members/?fields=id, name, email, locale, account_claim_time.limit=(500)\n",
      "{'data': [{'id': '100023047356365', 'name': 'Lekha', 'locale': 'en_US', 'account_claim_time': '2017-11-20T19:53:31+0000'}, {'id': '100026602362402', 'name': 'Ms. Hemal Dineshkumar Purohit', 'locale': 'en_US', 'account_claim_time': '2018-06-07T06:43:22+0000'}, {'id': '100027064502432', 'name': 'Lalit Kumar', 'locale': 'en_GB', 'account_claim_time': '2018-06-21T06:22:22+0000'}, {'id': '100027337913853', 'name': 'Kaviinmozhi v', 'locale': 'en_GB', 'account_claim_time': '2018-07-19T09:29:29+0000'}, {'id': '100024106200200', 'name': 'M.Syed mathar maideen', 'locale': 'en_GB', 'account_claim_time': '2018-01-19T01:07:43+0000'}, {'id': '100025470331830', 'name': 'jintha', 'locale': 'en_GB', 'account_claim_time': '2018-04-13T10:16:38+0000'}, {'id': '100027493901009', 'name': 'C.STALIN JOSE', 'locale': 'en_GB', 'account_claim_time': '2018-07-20T08:20:08+0000'}, {'id': '100027446296204', 'name': 'Dr. ANTHUVAN BABU S', 'locale': 'en_GB', 'account_claim_time': '2018-07-20T08:19:47+0000'}, {'id': '100027380631068', 'name': 'SUBHASH J', 'locale': 'en_GB', 'account_claim_time': '2018-07-20T08:35:35+0000'}, {'id': '100027524047738', 'name': 'S. JAYAKUMAR', 'locale': 'en_GB', 'account_claim_time': '2018-07-20T10:19:45+0000'}, {'id': '100027476232247', 'name': 'JANANI V', 'locale': 'en_US', 'account_claim_time': '2018-07-19T10:29:22+0000'}, {'id': '100027427577785', 'name': 'KRISHNAMOORTHY E', 'locale': 'en_GB', 'account_claim_time': '2018-07-20T08:19:44+0000'}, {'id': '100027618602281', 'name': 'SHARVINI K.M', 'locale': 'en_GB', 'account_claim_time': '2018-07-18T14:32:17+0000'}, {'id': '100027449505931', 'name': 'N.BAGYALAKSHMI', 'locale': 'en_GB', 'account_claim_time': '2018-07-20T08:21:39+0000'}, {'id': '100027613502354', 'name': 'S NANDHAKUMAR', 'locale': 'en_GB', 'account_claim_time': '2018-07-20T08:18:27+0000'}, {'id': '100021907391279', 'name': 'Pritesh Patel', 'locale': 'en_US', 'account_claim_time': '2017-09-07T04:20:47+0000'}, {'id': '100027495160790', 'name': 'SIVAKUMAR.V', 'locale': 'en_GB', 'account_claim_time': '2018-07-18T14:34:56+0000'}, {'id': '100027304606583', 'name': 'Ajatshatru', 'locale': 'en_GB', 'account_claim_time': '2018-07-19T15:05:53+0000'}, {'id': '100027547775790', 'name': 'Suganya.T', 'locale': 'en_GB', 'account_claim_time': '2018-07-19T11:51:45+0000'}, {'id': '100027525457318', 'name': 'Venkatesan M', 'locale': 'en_GB', 'account_claim_time': '2018-07-19T09:29:17+0000'}, {'id': '100027558124828', 'name': 'L.DAVID WILLIAM RAJ', 'locale': 'en_GB', 'account_claim_time': '2018-07-19T09:28:44+0000'}, {'id': '100021989790572', 'name': 'L Kamo', 'locale': 'en_US', 'account_claim_time': '2017-09-07T06:46:23+0000'}, {'id': '100021972649976', 'name': 'Pallavi', 'locale': 'en_US', 'account_claim_time': '2018-07-19T06:57:14+0000'}, {'id': '100022528982390', 'name': 'Malgi suresha', 'locale': 'en_US', 'account_claim_time': '2017-10-11T07:37:47+0000'}, {'id': '100026695327171', 'name': 'Praveen Kumar', 'locale': 'en_GB', 'account_claim_time': '2018-07-18T07:23:32+0000'}], 'paging': {'cursors': {'before': 'QVFIUnR1ZAkVpakFDWUVqclo1ZAW9pY21IckpTVnQtVmxUYV8wVGJaSFY5MHRvaGxseGg3MC01TGo2V2FWSWhEZA2I3eTR4akFGaE5PUjEycGx4ZAUsyNVptTlJn', 'after': 'QVFIUnI4ZA3dqTkFLWDdIM1JOcjlzbVZAyNHl0cEJ2TVZAhbXI3ektUNzVTLS11SGh4ZAWpqTFdmZAnp4a19ObkNfRWpSOVhwTWJsVE96SW03MDZAUWFFYZAXZAjOFF3'}, 'next': 'https://graph.facebook.com/v3.0/284578622020844/members?fields=id%2C+name%2C+email%2C+locale%2C+account_claim_time.limit%3D%28500%29&limit=25&after=QVFIUnI4ZA3dqTkFLWDdIM1JOcjlzbVZAyNHl0cEJ2TVZAhbXI3ektUNzVTLS11SGh4ZAWpqTFdmZAnp4a19ObkNfRWpSOVhwTWJsVE96SW03MDZAUWFFYZAXZAjOFF3'}}\n"
     ]
    }
   ],
   "source": [
    "import requests\n",
    "import json\n",
    "import os.path\n",
    "\n",
    "####SETTING UP ESSENTIALS#####\n",
    "\n",
    "#This is the common prefix for all calls\n",
    "GRAPH_URL_PREFIX = 'https://graph.facebook.com/'\n",
    "#All data resulting from this code will be saved at this link. Please adjust it as per your requirement:\n",
    "SAVE_PATH='D:\\Dropbox\\Dropbox\\Programming\\Trainer_Tribe_Data'\n",
    "\n",
    "#This section lists suffixes and fields at each level of the data hierarchy \n",
    "MEMBERS_PREFIX='/members/'\n",
    "MEMBERS_FIELDS='id, name, email, joined, account_claim_time'\n",
    "##Sample from API documentation /{group-id}/members?fields=name,id,joined\n",
    "\n",
    "#This is the universal access token used in all requests in this script.\n",
    "ACCESS_TOKEN= 'DQVJ2LTNQa3B0M3dra1hfdTJnT2YyNmw2X0cxUHJlMWFtWW9XWW9pbDdSVkJYYkNqMlFfb0RidTU4anRXM3E5LTU2MHFsZA2hnSGZAYUEhPOHBTTGpfYlk3UUh4S2xzX1VMeF9VNkk0cjFvd09hRFlpR21DcERqUlRaYjZAIT3BfcFY1Ry1OVWJsZAkdzS21mSG1xVkZAtb1FSbFU0UDZAUM0wwWTE2TlBpY3VpSmQxd2M5eFlSWmVScnBxbmVIYl9QZAGZASNUw1bDhR'\n",
    "TT_MAIN=\"284578622020844\"\n",
    "\n",
    "#Adjust how many results you want to stay visible\n",
    "LIMIT= 500\n",
    "\n",
    "#This section includes 'conjunctions' in between the clauses so as to form a full HTTP request as per the Workplace API\n",
    "FIELDS_CONJ = '?fields='\n",
    "LIMITS_EDGE_CONJ = '?limit='\n",
    "LIMITS_CONJ='.limit=('+str(FEED_LIMIT)+')'\n",
    "\n",
    "####DEFINING REQUIRED FUNCTIONS ####\n",
    "\n",
    "def getGroupMembers(access_token, group_ID):\n",
    "    endpoint= GRAPH_URL_PREFIX +group_ID+MEMBERS_PREFIX+ FIELDS_CONJ+MEMBER_FIELDS+LIMITS_CONJ\n",
    "    print(endpoint)\n",
    "    return getJsonData(access_token, endpoint)\n",
    "\n",
    "def buildHeader(access_token):\n",
    "    return {'Authorization': 'Bearer ' + access_token}\n",
    "\n",
    "def getJsonData(access_token, endpoint):\n",
    "    headers = buildHeader(access_token)\n",
    "    result = requests.get(endpoint,headers=headers)\n",
    "    result_json = json.loads(result.text)\n",
    "    return result_json\n",
    "\n",
    "###### CORE DOWNLOADING ########\n",
    "\n",
    "members= getGroupMembers(ACCESS_TOKEN, TT_MAIN)\n",
    "print(members)\n",
    "\n",
    "\n"
   ]
  },
  {
   "cell_type": "code",
   "execution_count": null,
   "metadata": {},
   "outputs": [],
   "source": []
  },
  {
   "cell_type": "code",
   "execution_count": 12,
   "metadata": {},
   "outputs": [
    {
     "name": "stdout",
     "output_type": "stream",
     "text": [
      "{'id': '100022994682278', 'name': 'Akash V', 'locale': 'en_GB', 'account_claim_time': '2017-11-15T05:16:49+0000'}\n"
     ]
    }
   ],
   "source": [
    "##Test Run on one member\n",
    "print(getMemberDetails(ACCESS_TOKEN, '100022994682278'))"
   ]
  }
 ],
 "metadata": {
  "kernelspec": {
   "display_name": "Python 3",
   "language": "python",
   "name": "python3"
  },
  "language_info": {
   "codemirror_mode": {
    "name": "ipython",
    "version": 3
   },
   "file_extension": ".py",
   "mimetype": "text/x-python",
   "name": "python",
   "nbconvert_exporter": "python",
   "pygments_lexer": "ipython3",
   "version": "3.6.5"
  }
 },
 "nbformat": 4,
 "nbformat_minor": 2
}
