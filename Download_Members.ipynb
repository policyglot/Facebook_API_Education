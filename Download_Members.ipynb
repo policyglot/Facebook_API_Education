{
 "cells": [
  {
   "cell_type": "code",
   "execution_count": 16,
   "metadata": {},
   "outputs": [
    {
     "name": "stdout",
     "output_type": "stream",
     "text": [
      "25\n"
     ]
    }
   ],
   "source": [
    "import requests\n",
    "import json\n",
    "import os.path\n",
    "\n",
    "####SETTING UP ESSENTIALS#####\n",
    "\n",
    "#This is the common prefix for all calls\n",
    "GRAPH_URL_PREFIX = 'https://graph.facebook.com/'\n",
    "#All data resulting from this code will be saved at this link. Please adjust it as per your requirement:\n",
    "SAVE_PATH='D:\\Dropbox\\Dropbox\\Programming\\Trainer_Tribe_Data'\n",
    "\n",
    "#This section lists suffixes and fields at each level of the data hierarchy \n",
    "COMMUNITY_FIELDS='members'\n",
    "\n",
    "MEMBER_SUFFIX='/members'\n",
    "MEMBER_FIELDS='id, name, email, locale, account_claim_time'\n",
    "\n",
    "#This is the universal access token used in all requests in this script.\n",
    "ACCESS_TOKEN= 'DQVJ2LTNQa3B0M3dra1hfdTJnT2YyNmw2X0cxUHJlMWFtWW9XWW9pbDdSVkJYYkNqMlFfb0RidTU4anRXM3E5LTU2MHFsZA2hnSGZAYUEhPOHBTTGpfYlk3UUh4S2xzX1VMeF9VNkk0cjFvd09hRFlpR21DcERqUlRaYjZAIT3BfcFY1Ry1OVWJsZAkdzS21mSG1xVkZAtb1FSbFU0UDZAUM0wwWTE2TlBpY3VpSmQxd2M5eFlSWmVScnBxbmVIYl9QZAGZASNUw1bDhR'\n",
    "TT_MAIN=\"284578622020844\"\n",
    "TT_COMMUNITY=\"112511455959143\"\n",
    "\n",
    "#Adjust how many results you want to stay visible\n",
    "LIMIT= 500\n",
    "\n",
    "#This section includes 'conjunctions' in between the clauses so as to form a full HTTP request as per the Workplace API\n",
    "FIELDS_CONJ = '?fields='\n",
    "LIMITS_EDGE_CONJ = '?limit='\n",
    "LIMITS_CONJ='.limit=('+str(FEED_LIMIT)+')'\n",
    "\n",
    "####DEFINING REQUIRED FUNCTIONS ####\n",
    "\n",
    "def getCommunityMembers(access_token, community_ID):\n",
    "    \"\"\"Extracts the IDs of all the groups that are members of the selected community\"\"\"\n",
    "    endpoint= GRAPH_URL_PREFIX +community_ID+ FIELDS_CONJ+COMMUNITY_FIELDS+LIMITS_CONJ\n",
    "    return getJsonData(access_token, endpoint)\n",
    "\n",
    "def getMemberDetails(access_token, member_ID):\n",
    "    endpoint= GRAPH_URL_PREFIX +member_ID+FIELDS_CONJ+MEMBER_FIELDS+LIMITS_CONJ\n",
    "    print(endpoint)\n",
    "    return getJsonData(access_token, endpoint)\n",
    "\n",
    "def buildHeader(access_token):\n",
    "    return {'Authorization': 'Bearer ' + access_token}\n",
    "\n",
    "def getJsonData(access_token, endpoint):\n",
    "    headers = buildHeader(access_token)\n",
    "    result = requests.get(endpoint,headers=headers)\n",
    "    result_json = json.loads(result.text)\n",
    "    return result_json\n",
    "\n",
    "###### CORE DOWNLOADING ########\n",
    "members_list=[]\n",
    "get_members=getCommunityMembers(ACCESS_TOKEN, TT_COMMUNITY)\n",
    "for member in get_members['members']['data']:\n",
    "    members_list.append(member)\n",
    "    #getMemberDetails(ACCESS_TOKEN, person['id'])\n",
    "\n",
    "#print(members_list)\n",
    "print(len(members_list))"
   ]
  },
  {
   "cell_type": "code",
   "execution_count": 12,
   "metadata": {},
   "outputs": [
    {
     "name": "stdout",
     "output_type": "stream",
     "text": [
      "{'id': '100022994682278', 'name': 'Akash V', 'locale': 'en_GB', 'account_claim_time': '2017-11-15T05:16:49+0000'}\n"
     ]
    }
   ],
   "source": [
    "##Test Run on one member\n",
    "print(getMemberDetails(ACCESS_TOKEN, '100022994682278'))"
   ]
  }
 ],
 "metadata": {
  "kernelspec": {
   "display_name": "Python 3",
   "language": "python",
   "name": "python3"
  },
  "language_info": {
   "codemirror_mode": {
    "name": "ipython",
    "version": 3
   },
   "file_extension": ".py",
   "mimetype": "text/x-python",
   "name": "python",
   "nbconvert_exporter": "python",
   "pygments_lexer": "ipython3",
   "version": "3.6.5"
  }
 },
 "nbformat": 4,
 "nbformat_minor": 2
}
