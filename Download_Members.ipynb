{
 "cells": [
  {
   "cell_type": "code",
   "execution_count": 39,
   "metadata": {},
   "outputs": [
    {
     "name": "stdout",
     "output_type": "stream",
     "text": [
      "https://graph.facebook.com/284578622020844/members?fields=id, name, email, locale, account_claim_time.limit=500\n"
     ]
    }
   ],
   "source": [
    "import requests\n",
    "import json\n",
    "import os.path\n",
    "\n",
    "####SETTING UP ESSENTIALS#####\n",
    "\n",
    "#This is the common prefix for all calls\n",
    "GRAPH_URL_PREFIX = 'https://graph.facebook.com/'\n",
    "#All data resulting from this code will be saved at this link. Please adjust it as per your requirement:\n",
    "SAVE_PATH='D:\\Dropbox\\Programming\\Trainer_Tribe_Data'\n",
    "\n",
    "#This section lists suffixes and fields at each level of the data hierarchy \n",
    "MEMBERS_PREFIX='/members'\n",
    "MEMBERS_FIELDS='id,name,email,joined,account_claim_time'\n",
    "##Sample from API documentation /{group-id}/members?fields=name,id,joined\n",
    "\n",
    "#This is the universal access token used in all requests in this script.\n",
    "ACCESS_TOKEN= 'DQVJ2LTNQa3B0M3dra1hfdTJnT2YyNmw2X0cxUHJlMWFtWW9XWW9pbDdSVkJYYkNqMlFfb0RidTU4anRXM3E5LTU2MHFsZA2hnSGZAYUEhPOHBTTGpfYlk3UUh4S2xzX1VMeF9VNkk0cjFvd09hRFlpR21DcERqUlRaYjZAIT3BfcFY1Ry1OVWJsZAkdzS21mSG1xVkZAtb1FSbFU0UDZAUM0wwWTE2TlBpY3VpSmQxd2M5eFlSWmVScnBxbmVIYl9QZAGZASNUw1bDhR'\n",
    "TT_MAIN=\"284578622020844\"\n",
    "\n",
    "#Adjust how many results you want to stay visible\n",
    "LIMIT= 500\n",
    "\n",
    "#This section includes 'conjunctions' in between the clauses so as to form a full HTTP request as per the Workplace API\n",
    "FIELDS_CONJ = '?fields='\n",
    "LIMITS_CONJ='.limit='+str(FEED_LIMIT)\n",
    "\n",
    "####DEFINING REQUIRED FUNCTIONS ####\n",
    "\n",
    "def getGroupMembers(access_token, group_ID):\n",
    "    endpoint= GRAPH_URL_PREFIX +group_ID+MEMBERS_PREFIX+ FIELDS_CONJ+MEMBER_FIELDS+LIMITS_CONJ\n",
    "    print(endpoint)\n",
    "    return getJsonData(access_token, endpoint)\n",
    "\n",
    "def buildHeader(access_token):\n",
    "    return {'Authorization': 'Bearer ' + access_token}\n",
    "\n",
    "def getJsonData(access_token, endpoint):\n",
    "    headers = buildHeader(access_token)\n",
    "    result = requests.get(endpoint,headers=headers)\n",
    "    result_json = json.loads(result.text)\n",
    "    return result_json\n",
    "\n",
    "###### CORE DOWNLOADING ########\n",
    "\n",
    "members= getGroupMembers(ACCESS_TOKEN, TT_MAIN)\n",
    "completeName = os.path.join(SAVE_PATH, 'MemberData.json')\n",
    "with open(completeName, 'w') as outfile:\n",
    "    json.dump(members, outfile, indent=4)\n",
    "\n",
    "\n"
   ]
  },
  {
   "cell_type": "code",
   "execution_count": null,
   "metadata": {},
   "outputs": [],
   "source": []
  },
  {
   "cell_type": "code",
   "execution_count": 12,
   "metadata": {},
   "outputs": [
    {
     "name": "stdout",
     "output_type": "stream",
     "text": [
      "{'id': '100022994682278', 'name': 'Akash V', 'locale': 'en_GB', 'account_claim_time': '2017-11-15T05:16:49+0000'}\n"
     ]
    }
   ],
   "source": [
    "##Test Run on one member\n",
    "print(getMemberDetails(ACCESS_TOKEN, '100022994682278'))"
   ]
  }
 ],
 "metadata": {
  "kernelspec": {
   "display_name": "Python 3",
   "language": "python",
   "name": "python3"
  },
  "language_info": {
   "codemirror_mode": {
    "name": "ipython",
    "version": 3
   },
   "file_extension": ".py",
   "mimetype": "text/x-python",
   "name": "python",
   "nbconvert_exporter": "python",
   "pygments_lexer": "ipython3",
   "version": "3.6.5"
  }
 },
 "nbformat": 4,
 "nbformat_minor": 2
}
