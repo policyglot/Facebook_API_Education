{
 "cells": [
  {
   "cell_type": "code",
   "execution_count": 3,
   "metadata": {},
   "outputs": [
    {
     "ename": "AttributeError",
     "evalue": "'list' object has no attribute 'read'",
     "output_type": "error",
     "traceback": [
      "\u001b[1;31m---------------------------------------------------------------------------\u001b[0m",
      "\u001b[1;31mAttributeError\u001b[0m                            Traceback (most recent call last)",
      "\u001b[1;32m<ipython-input-3-20e9b0f1471c>\u001b[0m in \u001b[0;36m<module>\u001b[1;34m()\u001b[0m\n\u001b[0;32m     49\u001b[0m \u001b[0mfeeds\u001b[0m\u001b[1;33m=\u001b[0m \u001b[0mgetGroupFeed\u001b[0m\u001b[1;33m(\u001b[0m\u001b[0mACCESS_TOKEN\u001b[0m\u001b[1;33m,\u001b[0m \u001b[0mTT_MAIN\u001b[0m\u001b[1;33m)\u001b[0m\u001b[1;33m\u001b[0m\u001b[0m\n\u001b[0;32m     50\u001b[0m \u001b[1;33m\u001b[0m\u001b[0m\n\u001b[1;32m---> 51\u001b[1;33m \u001b[0mfeeds\u001b[0m\u001b[1;33m=\u001b[0m \u001b[0mjson\u001b[0m\u001b[1;33m.\u001b[0m\u001b[0mload\u001b[0m\u001b[1;33m(\u001b[0m\u001b[0mfeeds\u001b[0m\u001b[1;33m)\u001b[0m\u001b[1;33m\u001b[0m\u001b[0m\n\u001b[0m\u001b[0;32m     52\u001b[0m \u001b[0mdf\u001b[0m\u001b[1;33m=\u001b[0m\u001b[0mpd\u001b[0m\u001b[1;33m.\u001b[0m\u001b[0mread_json\u001b[0m\u001b[1;33m(\u001b[0m\u001b[0mfeeds\u001b[0m\u001b[1;33m)\u001b[0m\u001b[1;33m\u001b[0m\u001b[0m\n\u001b[0;32m     53\u001b[0m \u001b[0mprint\u001b[0m\u001b[1;33m(\u001b[0m\u001b[0mdf\u001b[0m\u001b[1;33m)\u001b[0m\u001b[1;33m\u001b[0m\u001b[0m\n",
      "\u001b[1;32m~\\Anaconda3\\lib\\json\\__init__.py\u001b[0m in \u001b[0;36mload\u001b[1;34m(fp, cls, object_hook, parse_float, parse_int, parse_constant, object_pairs_hook, **kw)\u001b[0m\n\u001b[0;32m    294\u001b[0m \u001b[1;33m\u001b[0m\u001b[0m\n\u001b[0;32m    295\u001b[0m     \"\"\"\n\u001b[1;32m--> 296\u001b[1;33m     return loads(fp.read(),\n\u001b[0m\u001b[0;32m    297\u001b[0m         \u001b[0mcls\u001b[0m\u001b[1;33m=\u001b[0m\u001b[0mcls\u001b[0m\u001b[1;33m,\u001b[0m \u001b[0mobject_hook\u001b[0m\u001b[1;33m=\u001b[0m\u001b[0mobject_hook\u001b[0m\u001b[1;33m,\u001b[0m\u001b[1;33m\u001b[0m\u001b[0m\n\u001b[0;32m    298\u001b[0m         \u001b[0mparse_float\u001b[0m\u001b[1;33m=\u001b[0m\u001b[0mparse_float\u001b[0m\u001b[1;33m,\u001b[0m \u001b[0mparse_int\u001b[0m\u001b[1;33m=\u001b[0m\u001b[0mparse_int\u001b[0m\u001b[1;33m,\u001b[0m\u001b[1;33m\u001b[0m\u001b[0m\n",
      "\u001b[1;31mAttributeError\u001b[0m: 'list' object has no attribute 'read'"
     ]
    }
   ],
   "source": [
    "import requests\n",
    "import json\n",
    "import pandas as pd\n",
    "\n",
    "GRAPH_URL_PREFIX = 'https://graph.facebook.com/'\n",
    "FIELDS_CONJ = '?fields=' \n",
    "GROUPS_SUFFIX = '/groups'\n",
    "GROUP_FIELDS = 'id,name,members,privacy,description,updated_time'\n",
    "MEMBERS_SUFFIX = '/members'\n",
    "MEMBER_FIELDS = 'email,id,administrator'\n",
    "FEED_SUFFIX= '/feed'\n",
    "FEED_FIELDS='id, created_time, updated_time, from, message'\n",
    "POSTS_SUFFIX= '/posts'\n",
    "POST_FIELDS= 'id, created_time, updated_time, from'\n",
    "ACCESS_TOKEN= 'DQVJ2LTNQa3B0M3dra1hfdTJnT2YyNmw2X0cxUHJlMWFtWW9XWW9pbDdSVkJYYkNqMlFfb0RidTU4anRXM3E5LTU2MHFsZA2hnSGZAYUEhPOHBTTGpfYlk3UUh4S2xzX1VMeF9VNkk0cjFvd09hRFlpR21DcERqUlRaYjZAIT3BfcFY1Ry1OVWJsZAkdzS21mSG1xVkZAtb1FSbFU0UDZAUM0wwWTE2TlBpY3VpSmQxd2M5eFlSWmVScnBxbmVIYl9QZAGZASNUw1bDhR'\n",
    "\n",
    "JSON_KEY_DATA = 'data'\n",
    "JSON_KEY_PAGING = 'paging'\n",
    "JSON_KEY_NEXT = 'next'\n",
    "JSON_KEY_EMAIL = 'email'\n",
    "\n",
    "#Group IDS\n",
    "TT_MAIN=\"284578622020844\"\n",
    "\n",
    "def getGroupMembers(access_token, group_id):\n",
    "    endpoint = GRAPH_URL_PREFIX + group_id + MEMBERS_SUFFIX + FIELDS_CONJ + MEMBER_FIELDS\n",
    "    return getPagedData(access_token, endpoint, [])\n",
    "\n",
    "def getGroupFeed(access_token, group_id):\n",
    "    endpoint = GRAPH_URL_PREFIX + group_id + FEED_SUFFIX+ FIELDS_CONJ+ FEED_FIELDS \n",
    "    return getPagedData(access_token, endpoint, [])\n",
    "\n",
    "def getPagedData(access_token, endpoint, data):\n",
    "    headers = buildHeader(access_token)\n",
    "    result = requests.get(endpoint,headers=headers)\n",
    "    result_json = json.loads(result.text)\n",
    "    json_keys = result_json.keys()\n",
    "    if JSON_KEY_DATA in json_keys and len(result_json[JSON_KEY_DATA]):\n",
    "        data.extend(result_json[JSON_KEY_DATA])\n",
    "    if JSON_KEY_PAGING in json_keys and JSON_KEY_NEXT in result_json[JSON_KEY_PAGING]:\n",
    "        next = result_json[JSON_KEY_PAGING][JSON_KEY_NEXT]\n",
    "        if next:\n",
    "            getPagedData(access_token, next, data)\n",
    "    return data\n",
    "\n",
    "def buildHeader(access_token):\n",
    "    return {'Authorization': 'Bearer ' + access_token}\n",
    "\n",
    "feeds= getGroupFeed(ACCESS_TOKEN, TT_MAIN)\n",
    "\n",
    "feeds= json.load(feeds)\n",
    "df=pd.read_json(feeds)\n",
    "print(df)\n"
   ]
  },
  {
   "cell_type": "code",
   "execution_count": null,
   "metadata": {},
   "outputs": [],
   "source": [
    "\n"
   ]
  }
 ],
 "metadata": {
  "kernelspec": {
   "display_name": "Python 3",
   "language": "python",
   "name": "python3"
  },
  "language_info": {
   "codemirror_mode": {
    "name": "ipython",
    "version": 3
   },
   "file_extension": ".py",
   "mimetype": "text/x-python",
   "name": "python",
   "nbconvert_exporter": "python",
   "pygments_lexer": "ipython3",
   "version": "3.6.5"
  }
 },
 "nbformat": 4,
 "nbformat_minor": 2
}
